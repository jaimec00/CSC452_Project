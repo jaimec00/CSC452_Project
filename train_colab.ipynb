{
  "cells": [
    {
      "cell_type": "markdown",
      "metadata": {},
      "source": [
        "Notebook to train the model, meant to be run in Google Colab"
      ]
    },
    {
      "cell_type": "code",
      "execution_count": null,
      "metadata": {
        "colab": {
          "base_uri": "https://localhost:8080/"
        },
        "collapsed": true,
        "id": "p-y9ujvLPBhX",
        "outputId": "d5650feb-76a4-4665-f194-942f2fcbe228"
      },
      "outputs": [],
      "source": [
        "# clone the repo\n",
        "!git clone https://github.com/jaimec00/CSC452_Project.git\n",
        "\n",
        "# move the contents to working dir, can't seem to cd in this env. skips ipynb since it is named the same as this nb\n",
        "!find CSC452_Project -maxdepth 1 ! -name '*.ipynb' -exec mv -t . -- {} +\n",
        "!rm -r CSC452_Project\n",
        "\n",
        "# check everything is there\n",
        "!echo \"repository has been cloned:\"\n",
        "!ls"
      ]
    },
    {
      "cell_type": "code",
      "execution_count": null,
      "metadata": {
        "colab": {
          "base_uri": "https://localhost:8080/"
        },
        "collapsed": true,
        "id": "irW1G-25PCws",
        "outputId": "21e7dc5a-e17e-459e-d277-5db642ed08e8"
      },
      "outputs": [],
      "source": [
        "# install reqs\n",
        "!pip install -r requirements.txt"
      ]
    },
    {
      "cell_type": "code",
      "execution_count": null,
      "metadata": {
        "colab": {
          "base_uri": "https://localhost:8080/"
        },
        "collapsed": true,
        "id": "4TYPR5iZPRls",
        "outputId": "d8df0a92-befc-4433-f429-0bca5c8138f6"
      },
      "outputs": [],
      "source": [
        "# get the data, takes a while\n",
        "!python data/get_data.py --get_annotations 1 --get_images 1"
      ]
    },
    {
      "cell_type": "code",
      "execution_count": null,
      "metadata": {
        "colab": {
          "base_uri": "https://localhost:8080/"
        },
        "id": "Nc603kFkSl3W",
        "outputId": "2b1f4235-a26c-4d73-9588-afdd215732d6"
      },
      "outputs": [],
      "source": [
        "# run the training run\n",
        "# to edit the config file, double click on it in the explorer and edit manually\n",
        "# loads all data before starting the run, so takes a while\n",
        "# 14 minutes for 3.25k imgs in training\n",
        "# 2.5 minutes for 569 imgs in validation\n",
        "# 6.5 minutes for 1.56k imgs in testing\n",
        "# 23 minutes total\n",
        "!python training_run.py"
      ]
    },
    {
      "cell_type": "code",
      "execution_count": null,
      "metadata": {
        "id": "G8BJriZGULvs"
      },
      "outputs": [],
      "source": []
    }
  ],
  "metadata": {
    "accelerator": "GPU",
    "colab": {
      "gpuType": "L4",
      "provenance": []
    },
    "kernelspec": {
      "display_name": "Python 3",
      "name": "python3"
    },
    "language_info": {
      "name": "python"
    }
  },
  "nbformat": 4,
  "nbformat_minor": 0
}
